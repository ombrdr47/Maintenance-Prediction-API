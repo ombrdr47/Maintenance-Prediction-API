{
 "cells": [
  {
   "cell_type": "code",
   "execution_count": 1,
   "metadata": {},
   "outputs": [],
   "source": [
    "import numpy as np \n",
    "import pandas as pd\n",
    "import seaborn as sns\n",
    "import matplotlib.pyplot as plt\n",
    "\n",
    "import warnings\n",
    "warnings.filterwarnings(\"ignore\")"
   ]
  },
  {
   "cell_type": "code",
   "execution_count": 2,
   "metadata": {},
   "outputs": [],
   "source": [
    "#Default theme\n",
    "sns.set_theme(palette='tab10',\n",
    "              font='Lucida Calligraphy',\n",
    "              font_scale=1.5,\n",
    "              rc=None)\n",
    "\n",
    "import matplotlib\n",
    "matplotlib.rcParams.update({'font.size': 15})\n",
    "plt.style.use('dark_background')"
   ]
  },
  {
   "cell_type": "code",
   "execution_count": 3,
   "metadata": {},
   "outputs": [],
   "source": [
    "pd.set_option(\"display.max_columns\",None)\n",
    "pd.set_option(\"display.max_rows\",None)"
   ]
  },
  {
   "cell_type": "code",
   "execution_count": 4,
   "metadata": {},
   "outputs": [
    {
     "data": {
      "text/html": [
       "<style type=\"text/css\">\n",
       "#T_b1e20_row0_col0, #T_b1e20_row0_col1, #T_b1e20_row0_col2, #T_b1e20_row0_col3, #T_b1e20_row0_col4, #T_b1e20_row0_col5, #T_b1e20_row0_col6, #T_b1e20_row0_col7, #T_b1e20_row1_col0, #T_b1e20_row1_col1, #T_b1e20_row1_col2, #T_b1e20_row1_col3, #T_b1e20_row1_col4, #T_b1e20_row1_col5, #T_b1e20_row1_col6, #T_b1e20_row1_col7, #T_b1e20_row2_col0, #T_b1e20_row2_col1, #T_b1e20_row2_col2, #T_b1e20_row2_col3, #T_b1e20_row2_col4, #T_b1e20_row2_col5, #T_b1e20_row2_col6, #T_b1e20_row2_col7, #T_b1e20_row3_col0, #T_b1e20_row3_col1, #T_b1e20_row3_col2, #T_b1e20_row3_col3, #T_b1e20_row3_col4, #T_b1e20_row3_col5, #T_b1e20_row3_col6, #T_b1e20_row3_col7, #T_b1e20_row4_col0, #T_b1e20_row4_col1, #T_b1e20_row4_col2, #T_b1e20_row4_col3, #T_b1e20_row4_col4, #T_b1e20_row4_col5, #T_b1e20_row4_col6, #T_b1e20_row4_col7, #T_b1e20_row5_col0, #T_b1e20_row5_col1, #T_b1e20_row5_col2, #T_b1e20_row5_col3, #T_b1e20_row5_col4, #T_b1e20_row5_col5, #T_b1e20_row5_col6, #T_b1e20_row5_col7 {\n",
       "  background-color: Brown;\n",
       "  color: white;\n",
       "  border-color: White;\n",
       "}\n",
       "</style>\n",
       "<table id=\"T_b1e20\">\n",
       "  <thead>\n",
       "    <tr>\n",
       "      <th class=\"blank level0\" >&nbsp;</th>\n",
       "      <th id=\"T_b1e20_level0_col0\" class=\"col_heading level0 col0\" >Type</th>\n",
       "      <th id=\"T_b1e20_level0_col1\" class=\"col_heading level0 col1\" >Air temperature [K]</th>\n",
       "      <th id=\"T_b1e20_level0_col2\" class=\"col_heading level0 col2\" >Process temperature [K]</th>\n",
       "      <th id=\"T_b1e20_level0_col3\" class=\"col_heading level0 col3\" >Rotational speed [rpm]</th>\n",
       "      <th id=\"T_b1e20_level0_col4\" class=\"col_heading level0 col4\" >Torque [Nm]</th>\n",
       "      <th id=\"T_b1e20_level0_col5\" class=\"col_heading level0 col5\" >Tool wear [min]</th>\n",
       "      <th id=\"T_b1e20_level0_col6\" class=\"col_heading level0 col6\" >Target</th>\n",
       "      <th id=\"T_b1e20_level0_col7\" class=\"col_heading level0 col7\" >Failure Type</th>\n",
       "    </tr>\n",
       "  </thead>\n",
       "  <tbody>\n",
       "    <tr>\n",
       "      <th id=\"T_b1e20_level0_row0\" class=\"row_heading level0 row0\" >6797</th>\n",
       "      <td id=\"T_b1e20_row0_col0\" class=\"data row0 col0\" >M</td>\n",
       "      <td id=\"T_b1e20_row0_col1\" class=\"data row0 col1\" >301.200000</td>\n",
       "      <td id=\"T_b1e20_row0_col2\" class=\"data row0 col2\" >310.700000</td>\n",
       "      <td id=\"T_b1e20_row0_col3\" class=\"data row0 col3\" >1615</td>\n",
       "      <td id=\"T_b1e20_row0_col4\" class=\"data row0 col4\" >34.900000</td>\n",
       "      <td id=\"T_b1e20_row0_col5\" class=\"data row0 col5\" >95</td>\n",
       "      <td id=\"T_b1e20_row0_col6\" class=\"data row0 col6\" >0</td>\n",
       "      <td id=\"T_b1e20_row0_col7\" class=\"data row0 col7\" >No Failure</td>\n",
       "    </tr>\n",
       "    <tr>\n",
       "      <th id=\"T_b1e20_level0_row1\" class=\"row_heading level0 row1\" >921</th>\n",
       "      <td id=\"T_b1e20_row1_col0\" class=\"data row1 col0\" >H</td>\n",
       "      <td id=\"T_b1e20_row1_col1\" class=\"data row1 col1\" >295.500000</td>\n",
       "      <td id=\"T_b1e20_row1_col2\" class=\"data row1 col2\" >305.900000</td>\n",
       "      <td id=\"T_b1e20_row1_col3\" class=\"data row1 col3\" >1593</td>\n",
       "      <td id=\"T_b1e20_row1_col4\" class=\"data row1 col4\" >37.200000</td>\n",
       "      <td id=\"T_b1e20_row1_col5\" class=\"data row1 col5\" >197</td>\n",
       "      <td id=\"T_b1e20_row1_col6\" class=\"data row1 col6\" >0</td>\n",
       "      <td id=\"T_b1e20_row1_col7\" class=\"data row1 col7\" >No Failure</td>\n",
       "    </tr>\n",
       "    <tr>\n",
       "      <th id=\"T_b1e20_level0_row2\" class=\"row_heading level0 row2\" >7009</th>\n",
       "      <td id=\"T_b1e20_row2_col0\" class=\"data row2 col0\" >L</td>\n",
       "      <td id=\"T_b1e20_row2_col1\" class=\"data row2 col1\" >300.500000</td>\n",
       "      <td id=\"T_b1e20_row2_col2\" class=\"data row2 col2\" >310.500000</td>\n",
       "      <td id=\"T_b1e20_row2_col3\" class=\"data row2 col3\" >1536</td>\n",
       "      <td id=\"T_b1e20_row2_col4\" class=\"data row2 col4\" >36.200000</td>\n",
       "      <td id=\"T_b1e20_row2_col5\" class=\"data row2 col5\" >12</td>\n",
       "      <td id=\"T_b1e20_row2_col6\" class=\"data row2 col6\" >0</td>\n",
       "      <td id=\"T_b1e20_row2_col7\" class=\"data row2 col7\" >No Failure</td>\n",
       "    </tr>\n",
       "    <tr>\n",
       "      <th id=\"T_b1e20_level0_row3\" class=\"row_heading level0 row3\" >8915</th>\n",
       "      <td id=\"T_b1e20_row3_col0\" class=\"data row3 col0\" >L</td>\n",
       "      <td id=\"T_b1e20_row3_col1\" class=\"data row3 col1\" >297.100000</td>\n",
       "      <td id=\"T_b1e20_row3_col2\" class=\"data row3 col2\" >308.300000</td>\n",
       "      <td id=\"T_b1e20_row3_col3\" class=\"data row3 col3\" >1403</td>\n",
       "      <td id=\"T_b1e20_row3_col4\" class=\"data row3 col4\" >54.100000</td>\n",
       "      <td id=\"T_b1e20_row3_col5\" class=\"data row3 col5\" >179</td>\n",
       "      <td id=\"T_b1e20_row3_col6\" class=\"data row3 col6\" >0</td>\n",
       "      <td id=\"T_b1e20_row3_col7\" class=\"data row3 col7\" >No Failure</td>\n",
       "    </tr>\n",
       "    <tr>\n",
       "      <th id=\"T_b1e20_level0_row4\" class=\"row_heading level0 row4\" >625</th>\n",
       "      <td id=\"T_b1e20_row4_col0\" class=\"data row4 col0\" >L</td>\n",
       "      <td id=\"T_b1e20_row4_col1\" class=\"data row4 col1\" >298.300000</td>\n",
       "      <td id=\"T_b1e20_row4_col2\" class=\"data row4 col2\" >310.100000</td>\n",
       "      <td id=\"T_b1e20_row4_col3\" class=\"data row4 col3\" >1545</td>\n",
       "      <td id=\"T_b1e20_row4_col4\" class=\"data row4 col4\" >36.300000</td>\n",
       "      <td id=\"T_b1e20_row4_col5\" class=\"data row4 col5\" >90</td>\n",
       "      <td id=\"T_b1e20_row4_col6\" class=\"data row4 col6\" >0</td>\n",
       "      <td id=\"T_b1e20_row4_col7\" class=\"data row4 col7\" >No Failure</td>\n",
       "    </tr>\n",
       "    <tr>\n",
       "      <th id=\"T_b1e20_level0_row5\" class=\"row_heading level0 row5\" >8710</th>\n",
       "      <td id=\"T_b1e20_row5_col0\" class=\"data row5 col0\" >L</td>\n",
       "      <td id=\"T_b1e20_row5_col1\" class=\"data row5 col1\" >297.100000</td>\n",
       "      <td id=\"T_b1e20_row5_col2\" class=\"data row5 col2\" >308.500000</td>\n",
       "      <td id=\"T_b1e20_row5_col3\" class=\"data row5 col3\" >1712</td>\n",
       "      <td id=\"T_b1e20_row5_col4\" class=\"data row5 col4\" >32.100000</td>\n",
       "      <td id=\"T_b1e20_row5_col5\" class=\"data row5 col5\" >48</td>\n",
       "      <td id=\"T_b1e20_row5_col6\" class=\"data row5 col6\" >0</td>\n",
       "      <td id=\"T_b1e20_row5_col7\" class=\"data row5 col7\" >No Failure</td>\n",
       "    </tr>\n",
       "  </tbody>\n",
       "</table>\n"
      ],
      "text/plain": [
       "<pandas.io.formats.style.Styler at 0x166f8f4d0>"
      ]
     },
     "execution_count": 4,
     "metadata": {},
     "output_type": "execute_result"
    }
   ],
   "source": [
    "df=pd.read_csv(\"predictive_maintenance.csv\")\n",
    "df = df.drop([\"UDI\",\"Product ID\"],axis=1)\n",
    "df.sample(6)"
   ]
  },
  {
   "cell_type": "code",
   "execution_count": 5,
   "metadata": {},
   "outputs": [],
   "source": [
    "df[\"Air temperature [K]\"] = df[\"Air temperature [K]\"] - 272.15\n",
    "df[\"Process temperature [K]\"] = df[\"Process temperature [K]\"] - 272.15\n",
    "\n",
    "# Renaming temperature in Centigrate(°C) from Kelvin (K)\n",
    "df.rename(columns={\"Air temperature [K]\" : \"Air temperature [°C]\",\"Process temperature [K]\" : \"Process temperature [°C]\"},inplace=True)"
   ]
  },
  {
   "cell_type": "code",
   "execution_count": 6,
   "metadata": {},
   "outputs": [
    {
     "data": {
      "text/html": [
       "<div>\n",
       "<style scoped>\n",
       "    .dataframe tbody tr th:only-of-type {\n",
       "        vertical-align: middle;\n",
       "    }\n",
       "\n",
       "    .dataframe tbody tr th {\n",
       "        vertical-align: top;\n",
       "    }\n",
       "\n",
       "    .dataframe thead th {\n",
       "        text-align: right;\n",
       "    }\n",
       "</style>\n",
       "<table border=\"1\" class=\"dataframe\">\n",
       "  <thead>\n",
       "    <tr style=\"text-align: right;\">\n",
       "      <th></th>\n",
       "      <th>Type</th>\n",
       "      <th>Air temperature [°C]</th>\n",
       "      <th>Process temperature [°C]</th>\n",
       "      <th>Rotational speed [rpm]</th>\n",
       "      <th>Torque [Nm]</th>\n",
       "      <th>Tool wear [min]</th>\n",
       "      <th>Target</th>\n",
       "      <th>Failure Type</th>\n",
       "      <th>Temperature difference [°C]</th>\n",
       "    </tr>\n",
       "  </thead>\n",
       "  <tbody>\n",
       "    <tr>\n",
       "      <th>368</th>\n",
       "      <td>L</td>\n",
       "      <td>25.35</td>\n",
       "      <td>36.25</td>\n",
       "      <td>1489</td>\n",
       "      <td>39.5</td>\n",
       "      <td>96</td>\n",
       "      <td>0</td>\n",
       "      <td>No Failure</td>\n",
       "      <td>10.9</td>\n",
       "    </tr>\n",
       "    <tr>\n",
       "      <th>3982</th>\n",
       "      <td>L</td>\n",
       "      <td>30.05</td>\n",
       "      <td>39.15</td>\n",
       "      <td>1475</td>\n",
       "      <td>48.6</td>\n",
       "      <td>104</td>\n",
       "      <td>0</td>\n",
       "      <td>No Failure</td>\n",
       "      <td>9.1</td>\n",
       "    </tr>\n",
       "    <tr>\n",
       "      <th>2451</th>\n",
       "      <td>L</td>\n",
       "      <td>27.05</td>\n",
       "      <td>36.55</td>\n",
       "      <td>1650</td>\n",
       "      <td>30.5</td>\n",
       "      <td>93</td>\n",
       "      <td>0</td>\n",
       "      <td>No Failure</td>\n",
       "      <td>9.5</td>\n",
       "    </tr>\n",
       "    <tr>\n",
       "      <th>8859</th>\n",
       "      <td>L</td>\n",
       "      <td>25.75</td>\n",
       "      <td>36.95</td>\n",
       "      <td>1457</td>\n",
       "      <td>44.4</td>\n",
       "      <td>28</td>\n",
       "      <td>0</td>\n",
       "      <td>No Failure</td>\n",
       "      <td>11.2</td>\n",
       "    </tr>\n",
       "    <tr>\n",
       "      <th>627</th>\n",
       "      <td>L</td>\n",
       "      <td>26.25</td>\n",
       "      <td>37.95</td>\n",
       "      <td>1455</td>\n",
       "      <td>42.2</td>\n",
       "      <td>94</td>\n",
       "      <td>0</td>\n",
       "      <td>No Failure</td>\n",
       "      <td>11.7</td>\n",
       "    </tr>\n",
       "  </tbody>\n",
       "</table>\n",
       "</div>"
      ],
      "text/plain": [
       "     Type  Air temperature [°C]  Process temperature [°C]  \\\n",
       "368     L                 25.35                     36.25   \n",
       "3982    L                 30.05                     39.15   \n",
       "2451    L                 27.05                     36.55   \n",
       "8859    L                 25.75                     36.95   \n",
       "627     L                 26.25                     37.95   \n",
       "\n",
       "      Rotational speed [rpm]  Torque [Nm]  Tool wear [min]  Target  \\\n",
       "368                     1489         39.5               96       0   \n",
       "3982                    1475         48.6              104       0   \n",
       "2451                    1650         30.5               93       0   \n",
       "8859                    1457         44.4               28       0   \n",
       "627                     1455         42.2               94       0   \n",
       "\n",
       "     Failure Type  Temperature difference [°C]  \n",
       "368    No Failure                         10.9  \n",
       "3982   No Failure                          9.1  \n",
       "2451   No Failure                          9.5  \n",
       "8859   No Failure                         11.2  \n",
       "627    No Failure                         11.7  "
      ]
     },
     "execution_count": 6,
     "metadata": {},
     "output_type": "execute_result"
    }
   ],
   "source": [
    "df[\"Temperature difference [°C]\"] = df[\"Process temperature [°C]\"] - df[\"Air temperature [°C]\"]\n",
    "df.sample(5)"
   ]
  },
  {
   "cell_type": "code",
   "execution_count": 7,
   "metadata": {},
   "outputs": [
    {
     "data": {
      "text/plain": [
       "(10000, 9)"
      ]
     },
     "metadata": {},
     "output_type": "display_data"
    },
    {
     "data": {
      "text/plain": [
       "90000"
      ]
     },
     "metadata": {},
     "output_type": "display_data"
    }
   ],
   "source": [
    "display(df.shape)\n",
    "display(df.size)"
   ]
  },
  {
   "cell_type": "code",
   "execution_count": 8,
   "metadata": {},
   "outputs": [
    {
     "name": "stdout",
     "output_type": "stream",
     "text": [
      "<class 'pandas.core.frame.DataFrame'>\n",
      "RangeIndex: 10000 entries, 0 to 9999\n",
      "Data columns (total 9 columns):\n",
      " #   Column                       Non-Null Count  Dtype  \n",
      "---  ------                       --------------  -----  \n",
      " 0   Type                         10000 non-null  object \n",
      " 1   Air temperature [°C]         10000 non-null  float64\n",
      " 2   Process temperature [°C]     10000 non-null  float64\n",
      " 3   Rotational speed [rpm]       10000 non-null  int64  \n",
      " 4   Torque [Nm]                  10000 non-null  float64\n",
      " 5   Tool wear [min]              10000 non-null  int64  \n",
      " 6   Target                       10000 non-null  int64  \n",
      " 7   Failure Type                 10000 non-null  object \n",
      " 8   Temperature difference [°C]  10000 non-null  float64\n",
      "dtypes: float64(4), int64(3), object(2)\n",
      "memory usage: 703.3+ KB\n"
     ]
    }
   ],
   "source": [
    "df.info() \n"
   ]
  },
  {
   "cell_type": "code",
   "execution_count": 9,
   "metadata": {},
   "outputs": [
    {
     "data": {
      "text/html": [
       "<style type=\"text/css\">\n",
       "#T_2a8d7_row0_col0, #T_2a8d7_row0_col1, #T_2a8d7_row0_col2, #T_2a8d7_row0_col3, #T_2a8d7_row0_col4, #T_2a8d7_row0_col5, #T_2a8d7_row0_col6 {\n",
       "  background-color: #fcfdbf;\n",
       "  color: #000000;\n",
       "}\n",
       "#T_2a8d7_row1_col0, #T_2a8d7_row1_col1, #T_2a8d7_row1_col3, #T_2a8d7_row1_col5, #T_2a8d7_row1_col6, #T_2a8d7_row2_col0, #T_2a8d7_row2_col1, #T_2a8d7_row2_col2, #T_2a8d7_row2_col3, #T_2a8d7_row2_col5, #T_2a8d7_row2_col6, #T_2a8d7_row3_col0, #T_2a8d7_row3_col1, #T_2a8d7_row3_col3, #T_2a8d7_row3_col4, #T_2a8d7_row3_col5, #T_2a8d7_row3_col6, #T_2a8d7_row4_col0, #T_2a8d7_row4_col1, #T_2a8d7_row4_col3, #T_2a8d7_row4_col5, #T_2a8d7_row4_col6, #T_2a8d7_row5_col0, #T_2a8d7_row5_col1, #T_2a8d7_row5_col3, #T_2a8d7_row5_col5, #T_2a8d7_row5_col6, #T_2a8d7_row6_col0, #T_2a8d7_row6_col1, #T_2a8d7_row6_col5, #T_2a8d7_row6_col6, #T_2a8d7_row7_col0, #T_2a8d7_row7_col5, #T_2a8d7_row7_col6 {\n",
       "  background-color: #000004;\n",
       "  color: #f1f1f1;\n",
       "}\n",
       "#T_2a8d7_row1_col2 {\n",
       "  background-color: #21114e;\n",
       "  color: #f1f1f1;\n",
       "}\n",
       "#T_2a8d7_row1_col4, #T_2a8d7_row5_col4 {\n",
       "  background-color: #010106;\n",
       "  color: #f1f1f1;\n",
       "}\n",
       "#T_2a8d7_row2_col4, #T_2a8d7_row4_col4, #T_2a8d7_row6_col3, #T_2a8d7_row7_col1, #T_2a8d7_row7_col3 {\n",
       "  background-color: #010005;\n",
       "  color: #f1f1f1;\n",
       "}\n",
       "#T_2a8d7_row3_col2 {\n",
       "  background-color: #140e36;\n",
       "  color: #f1f1f1;\n",
       "}\n",
       "#T_2a8d7_row4_col2 {\n",
       "  background-color: #1d1147;\n",
       "  color: #f1f1f1;\n",
       "}\n",
       "#T_2a8d7_row5_col2 {\n",
       "  background-color: #20114b;\n",
       "  color: #f1f1f1;\n",
       "}\n",
       "#T_2a8d7_row6_col2 {\n",
       "  background-color: #241253;\n",
       "  color: #f1f1f1;\n",
       "}\n",
       "#T_2a8d7_row6_col4 {\n",
       "  background-color: #020109;\n",
       "  color: #f1f1f1;\n",
       "}\n",
       "#T_2a8d7_row7_col2 {\n",
       "  background-color: #5a167e;\n",
       "  color: #f1f1f1;\n",
       "}\n",
       "#T_2a8d7_row7_col4 {\n",
       "  background-color: #02020d;\n",
       "  color: #f1f1f1;\n",
       "}\n",
       "</style>\n",
       "<table id=\"T_2a8d7\">\n",
       "  <thead>\n",
       "    <tr>\n",
       "      <th class=\"blank level0\" >&nbsp;</th>\n",
       "      <th id=\"T_2a8d7_level0_col0\" class=\"col_heading level0 col0\" >Air temperature [°C]</th>\n",
       "      <th id=\"T_2a8d7_level0_col1\" class=\"col_heading level0 col1\" >Process temperature [°C]</th>\n",
       "      <th id=\"T_2a8d7_level0_col2\" class=\"col_heading level0 col2\" >Rotational speed [rpm]</th>\n",
       "      <th id=\"T_2a8d7_level0_col3\" class=\"col_heading level0 col3\" >Torque [Nm]</th>\n",
       "      <th id=\"T_2a8d7_level0_col4\" class=\"col_heading level0 col4\" >Tool wear [min]</th>\n",
       "      <th id=\"T_2a8d7_level0_col5\" class=\"col_heading level0 col5\" >Target</th>\n",
       "      <th id=\"T_2a8d7_level0_col6\" class=\"col_heading level0 col6\" >Temperature difference [°C]</th>\n",
       "    </tr>\n",
       "  </thead>\n",
       "  <tbody>\n",
       "    <tr>\n",
       "      <th id=\"T_2a8d7_level0_row0\" class=\"row_heading level0 row0\" >count</th>\n",
       "      <td id=\"T_2a8d7_row0_col0\" class=\"data row0 col0\" >10000.000000</td>\n",
       "      <td id=\"T_2a8d7_row0_col1\" class=\"data row0 col1\" >10000.000000</td>\n",
       "      <td id=\"T_2a8d7_row0_col2\" class=\"data row0 col2\" >10000.000000</td>\n",
       "      <td id=\"T_2a8d7_row0_col3\" class=\"data row0 col3\" >10000.000000</td>\n",
       "      <td id=\"T_2a8d7_row0_col4\" class=\"data row0 col4\" >10000.000000</td>\n",
       "      <td id=\"T_2a8d7_row0_col5\" class=\"data row0 col5\" >10000.000000</td>\n",
       "      <td id=\"T_2a8d7_row0_col6\" class=\"data row0 col6\" >10000.000000</td>\n",
       "    </tr>\n",
       "    <tr>\n",
       "      <th id=\"T_2a8d7_level0_row1\" class=\"row_heading level0 row1\" >mean</th>\n",
       "      <td id=\"T_2a8d7_row1_col0\" class=\"data row1 col0\" >27.854930</td>\n",
       "      <td id=\"T_2a8d7_row1_col1\" class=\"data row1 col1\" >37.855560</td>\n",
       "      <td id=\"T_2a8d7_row1_col2\" class=\"data row1 col2\" >1538.776100</td>\n",
       "      <td id=\"T_2a8d7_row1_col3\" class=\"data row1 col3\" >39.986910</td>\n",
       "      <td id=\"T_2a8d7_row1_col4\" class=\"data row1 col4\" >107.951000</td>\n",
       "      <td id=\"T_2a8d7_row1_col5\" class=\"data row1 col5\" >0.033900</td>\n",
       "      <td id=\"T_2a8d7_row1_col6\" class=\"data row1 col6\" >10.000630</td>\n",
       "    </tr>\n",
       "    <tr>\n",
       "      <th id=\"T_2a8d7_level0_row2\" class=\"row_heading level0 row2\" >std</th>\n",
       "      <td id=\"T_2a8d7_row2_col0\" class=\"data row2 col0\" >2.000259</td>\n",
       "      <td id=\"T_2a8d7_row2_col1\" class=\"data row2 col1\" >1.483734</td>\n",
       "      <td id=\"T_2a8d7_row2_col2\" class=\"data row2 col2\" >179.284096</td>\n",
       "      <td id=\"T_2a8d7_row2_col3\" class=\"data row2 col3\" >9.968934</td>\n",
       "      <td id=\"T_2a8d7_row2_col4\" class=\"data row2 col4\" >63.654147</td>\n",
       "      <td id=\"T_2a8d7_row2_col5\" class=\"data row2 col5\" >0.180981</td>\n",
       "      <td id=\"T_2a8d7_row2_col6\" class=\"data row2 col6\" >1.001094</td>\n",
       "    </tr>\n",
       "    <tr>\n",
       "      <th id=\"T_2a8d7_level0_row3\" class=\"row_heading level0 row3\" >min</th>\n",
       "      <td id=\"T_2a8d7_row3_col0\" class=\"data row3 col0\" >23.150000</td>\n",
       "      <td id=\"T_2a8d7_row3_col1\" class=\"data row3 col1\" >33.550000</td>\n",
       "      <td id=\"T_2a8d7_row3_col2\" class=\"data row3 col2\" >1168.000000</td>\n",
       "      <td id=\"T_2a8d7_row3_col3\" class=\"data row3 col3\" >3.800000</td>\n",
       "      <td id=\"T_2a8d7_row3_col4\" class=\"data row3 col4\" >0.000000</td>\n",
       "      <td id=\"T_2a8d7_row3_col5\" class=\"data row3 col5\" >0.000000</td>\n",
       "      <td id=\"T_2a8d7_row3_col6\" class=\"data row3 col6\" >7.600000</td>\n",
       "    </tr>\n",
       "    <tr>\n",
       "      <th id=\"T_2a8d7_level0_row4\" class=\"row_heading level0 row4\" >25%</th>\n",
       "      <td id=\"T_2a8d7_row4_col0\" class=\"data row4 col0\" >26.150000</td>\n",
       "      <td id=\"T_2a8d7_row4_col1\" class=\"data row4 col1\" >36.650000</td>\n",
       "      <td id=\"T_2a8d7_row4_col2\" class=\"data row4 col2\" >1423.000000</td>\n",
       "      <td id=\"T_2a8d7_row4_col3\" class=\"data row4 col3\" >33.200000</td>\n",
       "      <td id=\"T_2a8d7_row4_col4\" class=\"data row4 col4\" >53.000000</td>\n",
       "      <td id=\"T_2a8d7_row4_col5\" class=\"data row4 col5\" >0.000000</td>\n",
       "      <td id=\"T_2a8d7_row4_col6\" class=\"data row4 col6\" >9.300000</td>\n",
       "    </tr>\n",
       "    <tr>\n",
       "      <th id=\"T_2a8d7_level0_row5\" class=\"row_heading level0 row5\" >50%</th>\n",
       "      <td id=\"T_2a8d7_row5_col0\" class=\"data row5 col0\" >27.950000</td>\n",
       "      <td id=\"T_2a8d7_row5_col1\" class=\"data row5 col1\" >37.950000</td>\n",
       "      <td id=\"T_2a8d7_row5_col2\" class=\"data row5 col2\" >1503.000000</td>\n",
       "      <td id=\"T_2a8d7_row5_col3\" class=\"data row5 col3\" >40.100000</td>\n",
       "      <td id=\"T_2a8d7_row5_col4\" class=\"data row5 col4\" >108.000000</td>\n",
       "      <td id=\"T_2a8d7_row5_col5\" class=\"data row5 col5\" >0.000000</td>\n",
       "      <td id=\"T_2a8d7_row5_col6\" class=\"data row5 col6\" >9.800000</td>\n",
       "    </tr>\n",
       "    <tr>\n",
       "      <th id=\"T_2a8d7_level0_row6\" class=\"row_heading level0 row6\" >75%</th>\n",
       "      <td id=\"T_2a8d7_row6_col0\" class=\"data row6 col0\" >29.350000</td>\n",
       "      <td id=\"T_2a8d7_row6_col1\" class=\"data row6 col1\" >38.950000</td>\n",
       "      <td id=\"T_2a8d7_row6_col2\" class=\"data row6 col2\" >1612.000000</td>\n",
       "      <td id=\"T_2a8d7_row6_col3\" class=\"data row6 col3\" >46.800000</td>\n",
       "      <td id=\"T_2a8d7_row6_col4\" class=\"data row6 col4\" >162.000000</td>\n",
       "      <td id=\"T_2a8d7_row6_col5\" class=\"data row6 col5\" >0.000000</td>\n",
       "      <td id=\"T_2a8d7_row6_col6\" class=\"data row6 col6\" >11.000000</td>\n",
       "    </tr>\n",
       "    <tr>\n",
       "      <th id=\"T_2a8d7_level0_row7\" class=\"row_heading level0 row7\" >max</th>\n",
       "      <td id=\"T_2a8d7_row7_col0\" class=\"data row7 col0\" >32.350000</td>\n",
       "      <td id=\"T_2a8d7_row7_col1\" class=\"data row7 col1\" >41.650000</td>\n",
       "      <td id=\"T_2a8d7_row7_col2\" class=\"data row7 col2\" >2886.000000</td>\n",
       "      <td id=\"T_2a8d7_row7_col3\" class=\"data row7 col3\" >76.600000</td>\n",
       "      <td id=\"T_2a8d7_row7_col4\" class=\"data row7 col4\" >253.000000</td>\n",
       "      <td id=\"T_2a8d7_row7_col5\" class=\"data row7 col5\" >1.000000</td>\n",
       "      <td id=\"T_2a8d7_row7_col6\" class=\"data row7 col6\" >12.100000</td>\n",
       "    </tr>\n",
       "  </tbody>\n",
       "</table>\n"
      ],
      "text/plain": [
       "<pandas.io.formats.style.Styler at 0x16c4906e0>"
      ]
     },
     "execution_count": 9,
     "metadata": {},
     "output_type": "execute_result"
    }
   ],
   "source": [
    "df.describe()\n"
   ]
  },
  {
   "cell_type": "code",
   "execution_count": 10,
   "metadata": {},
   "outputs": [
    {
     "name": "stdout",
     "output_type": "stream",
     "text": [
      "Type\n",
      "L    6000\n",
      "M    2997\n",
      "H    1003\n",
      "Name: count, dtype: int64\n",
      "********************************\n",
      "Target\n",
      "0    9661\n",
      "1     339\n",
      "Name: count, dtype: int64\n",
      "********************************\n",
      "Failure Type\n",
      "No Failure                  9652\n",
      "Heat Dissipation Failure     112\n",
      "Power Failure                 95\n",
      "Overstrain Failure            78\n",
      "Tool Wear Failure             45\n",
      "Random Failures               18\n",
      "Name: count, dtype: int64\n",
      "********************************\n"
     ]
    }
   ],
   "source": [
    "for col in df[['Type','Target','Failure Type']]:\n",
    "    print(df[col].value_counts()) \n",
    "    print(\"****\"*8)"
   ]
  },
  {
   "cell_type": "code",
   "execution_count": 15,
   "metadata": {},
   "outputs": [
    {
     "data": {
      "text/html": [
       "<div>\n",
       "<style scoped>\n",
       "    .dataframe tbody tr th:only-of-type {\n",
       "        vertical-align: middle;\n",
       "    }\n",
       "\n",
       "    .dataframe tbody tr th {\n",
       "        vertical-align: top;\n",
       "    }\n",
       "\n",
       "    .dataframe thead th {\n",
       "        text-align: right;\n",
       "    }\n",
       "</style>\n",
       "<table border=\"1\" class=\"dataframe\">\n",
       "  <thead>\n",
       "    <tr style=\"text-align: right;\">\n",
       "      <th></th>\n",
       "      <th>Type</th>\n",
       "      <th>Air temperature [°C]</th>\n",
       "      <th>Process temperature [°C]</th>\n",
       "      <th>Rotational speed [rpm]</th>\n",
       "      <th>Torque [Nm]</th>\n",
       "      <th>Tool wear [min]</th>\n",
       "      <th>Target</th>\n",
       "      <th>Failure Type</th>\n",
       "      <th>Temperature difference [°C]</th>\n",
       "    </tr>\n",
       "  </thead>\n",
       "  <tbody>\n",
       "    <tr>\n",
       "      <th>0</th>\n",
       "      <td>1</td>\n",
       "      <td>25.95</td>\n",
       "      <td>36.45</td>\n",
       "      <td>1551</td>\n",
       "      <td>42.8</td>\n",
       "      <td>0</td>\n",
       "      <td>0</td>\n",
       "      <td>1</td>\n",
       "      <td>10.5</td>\n",
       "    </tr>\n",
       "    <tr>\n",
       "      <th>1</th>\n",
       "      <td>2</td>\n",
       "      <td>26.05</td>\n",
       "      <td>36.55</td>\n",
       "      <td>1408</td>\n",
       "      <td>46.3</td>\n",
       "      <td>3</td>\n",
       "      <td>0</td>\n",
       "      <td>1</td>\n",
       "      <td>10.5</td>\n",
       "    </tr>\n",
       "    <tr>\n",
       "      <th>2</th>\n",
       "      <td>2</td>\n",
       "      <td>25.95</td>\n",
       "      <td>36.35</td>\n",
       "      <td>1498</td>\n",
       "      <td>49.4</td>\n",
       "      <td>5</td>\n",
       "      <td>0</td>\n",
       "      <td>1</td>\n",
       "      <td>10.4</td>\n",
       "    </tr>\n",
       "    <tr>\n",
       "      <th>3</th>\n",
       "      <td>2</td>\n",
       "      <td>26.05</td>\n",
       "      <td>36.45</td>\n",
       "      <td>1433</td>\n",
       "      <td>39.5</td>\n",
       "      <td>7</td>\n",
       "      <td>0</td>\n",
       "      <td>1</td>\n",
       "      <td>10.4</td>\n",
       "    </tr>\n",
       "    <tr>\n",
       "      <th>4</th>\n",
       "      <td>2</td>\n",
       "      <td>26.05</td>\n",
       "      <td>36.55</td>\n",
       "      <td>1408</td>\n",
       "      <td>40.0</td>\n",
       "      <td>9</td>\n",
       "      <td>0</td>\n",
       "      <td>1</td>\n",
       "      <td>10.5</td>\n",
       "    </tr>\n",
       "  </tbody>\n",
       "</table>\n",
       "</div>"
      ],
      "text/plain": [
       "   Type  Air temperature [°C]  Process temperature [°C]  \\\n",
       "0     1                 25.95                     36.45   \n",
       "1     2                 26.05                     36.55   \n",
       "2     2                 25.95                     36.35   \n",
       "3     2                 26.05                     36.45   \n",
       "4     2                 26.05                     36.55   \n",
       "\n",
       "   Rotational speed [rpm]  Torque [Nm]  Tool wear [min]  Target  Failure Type  \\\n",
       "0                    1551         42.8                0       0             1   \n",
       "1                    1408         46.3                3       0             1   \n",
       "2                    1498         49.4                5       0             1   \n",
       "3                    1433         39.5                7       0             1   \n",
       "4                    1408         40.0                9       0             1   \n",
       "\n",
       "   Temperature difference [°C]  \n",
       "0                         10.5  \n",
       "1                         10.5  \n",
       "2                         10.4  \n",
       "3                         10.4  \n",
       "4                         10.5  "
      ]
     },
     "execution_count": 15,
     "metadata": {},
     "output_type": "execute_result"
    }
   ],
   "source": [
    "import category_encoders as ce\n",
    "encoder = ce.OrdinalEncoder(cols=['Type','Failure Type'])\n",
    "df = encoder.fit_transform(df)\n",
    "df.head()"
   ]
  },
  {
   "cell_type": "code",
   "execution_count": 16,
   "metadata": {},
   "outputs": [],
   "source": [
    "from sklearn.preprocessing import LabelEncoder\n",
    "scaler = LabelEncoder()\n",
    "df['Failure Type'] = scaler.fit_transform(df['Failure Type'])"
   ]
  },
  {
   "cell_type": "code",
   "execution_count": 17,
   "metadata": {},
   "outputs": [],
   "source": [
    "X = df.drop(columns=\"Failure Type\" , axis=1)\n",
    "y = df[\"Failure Type\"]"
   ]
  },
  {
   "cell_type": "code",
   "execution_count": 18,
   "metadata": {},
   "outputs": [],
   "source": [
    "from sklearn.model_selection import train_test_split\n",
    "X_train,X_test,y_train,y_test = train_test_split(X,y,test_size=0.2,random_state=21)"
   ]
  },
  {
   "cell_type": "code",
   "execution_count": null,
   "metadata": {},
   "outputs": [],
   "source": []
  },
  {
   "cell_type": "markdown",
   "metadata": {},
   "source": [
    "## Model training"
   ]
  },
  {
   "cell_type": "code",
   "execution_count": 21,
   "metadata": {},
   "outputs": [],
   "source": [
    "from sklearn.metrics import accuracy_score,classification_report,confusion_matrix\n",
    "\n",
    "# Logistic Regression\n",
    "from sklearn.linear_model import LogisticRegression\n",
    "logreg = LogisticRegression()\n",
    "logreg.fit(X_train, y_train)\n",
    "y_pred_lr = logreg.predict(X_test)\n",
    "\n",
    "log_train = round(logreg.score(X_train, y_train) * 100, 2)\n",
    "log_accuracy = round(accuracy_score(y_pred_lr, y_test) * 100, 2)\n",
    "\n",
    "\n"
   ]
  },
  {
   "cell_type": "code",
   "execution_count": 23,
   "metadata": {},
   "outputs": [
    {
     "data": {
      "text/plain": [
       "96.25"
      ]
     },
     "execution_count": 23,
     "metadata": {},
     "output_type": "execute_result"
    }
   ],
   "source": []
  },
  {
   "cell_type": "code",
   "execution_count": 24,
   "metadata": {},
   "outputs": [
    {
     "name": "stdout",
     "output_type": "stream",
     "text": [
      "Training Accuracy    : 96.73 %\n",
      "Model Accuracy Score : 96.25 %\n"
     ]
    }
   ],
   "source": [
    "print(\"Training Accuracy    :\",log_train ,\"%\")\n",
    "print(\"Model Accuracy Score :\",log_accuracy ,\"%\")\n"
   ]
  },
  {
   "cell_type": "code",
   "execution_count": 27,
   "metadata": {},
   "outputs": [
    {
     "name": "stdout",
     "output_type": "stream",
     "text": [
      "\u001b[1m--------------------------------------------------------\u001b[0m\n",
      "Classification_Report: \n",
      "               precision    recall  f1-score   support\n",
      "\n",
      "           0       0.96      1.00      0.98      1921\n",
      "           1       0.00      0.00      0.00        19\n",
      "           2       0.00      0.00      0.00         9\n",
      "           3       0.71      0.31      0.43        16\n",
      "           4       0.00      0.00      0.00         3\n",
      "           5       0.00      0.00      0.00        32\n",
      "\n",
      "    accuracy                           0.96      2000\n",
      "   macro avg       0.28      0.22      0.24      2000\n",
      "weighted avg       0.93      0.96      0.95      2000\n",
      "\n",
      "\u001b[1m--------------------------------------------------------\u001b[0m\n"
     ]
    }
   ],
   "source": [
    "\n",
    "print(\"\\033[1m--------------------------------------------------------\\033[0m\")\n",
    "print(\"Classification_Report: \\n\",classification_report(y_test,y_pred_lr))\n",
    "print(\"\\033[1m--------------------------------------------------------\\033[0m\")\n"
   ]
  },
  {
   "cell_type": "code",
   "execution_count": 28,
   "metadata": {},
   "outputs": [],
   "source": [
    "from sklearn.tree import DecisionTreeClassifier\n",
    "decision = DecisionTreeClassifier()\n",
    "decision.fit(X_train, y_train)\n",
    "y_pred_dec = decision.predict(X_test)\n",
    "\n",
    "decision_train = round(decision.score(X_train, y_train) * 100, 2)\n",
    "decision_accuracy = round(accuracy_score(y_pred_dec, y_test) * 100, 2)"
   ]
  },
  {
   "cell_type": "code",
   "execution_count": 29,
   "metadata": {},
   "outputs": [
    {
     "name": "stdout",
     "output_type": "stream",
     "text": [
      "Training Accuracy    : 100.0 %\n",
      "Model Accuracy Score : 99.25 %\n"
     ]
    }
   ],
   "source": [
    "print(\"Training Accuracy    :\",decision_train ,\"%\")\n",
    "print(\"Model Accuracy Score :\",decision_accuracy ,\"%\")"
   ]
  },
  {
   "cell_type": "code",
   "execution_count": 30,
   "metadata": {},
   "outputs": [
    {
     "name": "stdout",
     "output_type": "stream",
     "text": [
      "Classification_Report: \n",
      "               precision    recall  f1-score   support\n",
      "\n",
      "           0       1.00      1.00      1.00      1921\n",
      "           1       0.81      0.89      0.85        19\n",
      "           2       0.90      1.00      0.95         9\n",
      "           3       0.92      0.75      0.83        16\n",
      "           4       0.00      0.00      0.00         3\n",
      "           5       0.97      0.97      0.97        32\n",
      "\n",
      "    accuracy                           0.99      2000\n",
      "   macro avg       0.77      0.77      0.77      2000\n",
      "weighted avg       0.99      0.99      0.99      2000\n",
      "\n"
     ]
    }
   ],
   "source": [
    "print(\"Classification_Report: \\n\",classification_report(y_test,y_pred_dec))"
   ]
  },
  {
   "cell_type": "code",
   "execution_count": 32,
   "metadata": {},
   "outputs": [],
   "source": [
    "df.to_csv(\"new_pred_maintenance.csv\")"
   ]
  },
  {
   "cell_type": "code",
   "execution_count": null,
   "metadata": {},
   "outputs": [],
   "source": []
  }
 ],
 "metadata": {
  "kernelspec": {
   "display_name": "Python 3",
   "language": "python",
   "name": "python3"
  },
  "language_info": {
   "codemirror_mode": {
    "name": "ipython",
    "version": 3
   },
   "file_extension": ".py",
   "mimetype": "text/x-python",
   "name": "python",
   "nbconvert_exporter": "python",
   "pygments_lexer": "ipython3",
   "version": "3.12.5"
  }
 },
 "nbformat": 4,
 "nbformat_minor": 2
}
